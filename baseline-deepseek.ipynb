{
 "cells": [
  {
   "cell_type": "code",
   "execution_count": 13,
   "metadata": {},
   "outputs": [],
   "source": [
    "![ ! -f requirements.txt ] && git clone https://github.com/anudaweerasinghe/small-coder.git"
   ]
  },
  {
   "cell_type": "code",
   "execution_count": null,
   "metadata": {},
   "outputs": [],
   "source": [
    "! pip3 install -r requirements.txt "
   ]
  },
  {
   "cell_type": "code",
   "execution_count": 10,
   "metadata": {},
   "outputs": [
    {
     "name": "stderr",
     "output_type": "stream",
     "text": [
      "Downloading readme: 100%|██████████| 9.06k/9.06k [00:00<00:00, 16.3MB/s]\n",
      "Downloading data: 100%|██████████| 87.2k/87.2k [00:00<00:00, 836kB/s]\n",
      "Downloading data: 100%|██████████| 116k/116k [00:00<00:00, 1.48MB/s]\n",
      "Downloading data: 100%|██████████| 25.1k/25.1k [00:00<00:00, 381kB/s]\n",
      "Downloading data: 100%|██████████| 7.88k/7.88k [00:00<00:00, 129kB/s]\n",
      "Generating train split: 100%|██████████| 374/374 [00:00<00:00, 141717.38 examples/s]\n",
      "Generating test split: 100%|██████████| 500/500 [00:00<00:00, 209150.49 examples/s]\n",
      "Generating validation split: 100%|██████████| 90/90 [00:00<00:00, 45850.52 examples/s]\n",
      "Generating prompt split: 100%|██████████| 10/10 [00:00<00:00, 5376.62 examples/s]\n"
     ]
    }
   ],
   "source": [
    "# setup human eval and mbpp dataset\n",
    "from datasets import load_dataset\n",
    "humaneval = load_dataset(\"openai_humaneval\", split=\"test\")\n",
    "mbpp = load_dataset(\"mbpp\", split=\"test\")"
   ]
  },
  {
   "cell_type": "code",
   "execution_count": 12,
   "metadata": {},
   "outputs": [
    {
     "name": "stdout",
     "output_type": "stream",
     "text": [
      "from typing import List\n",
      "\n",
      "\n",
      "def has_close_elements(numbers: List[float], threshold: float) -> bool:\n",
      "    \"\"\" Check if in given list of numbers, are any two numbers closer to each other than\n",
      "    given threshold.\n",
      "    >>> has_close_elements([1.0, 2.0, 3.0], 0.5)\n",
      "    False\n",
      "    >>> has_close_elements([1.0, 2.8, 3.0, 4.0, 5.0, 2.0], 0.3)\n",
      "    True\n",
      "    \"\"\"\n",
      "\n",
      "Write a python function to remove first and last occurrence of a given character from the string.\n"
     ]
    }
   ],
   "source": [
    "print(humaneval[0]['prompt'])\n",
    "print(mbpp[0]['text'])"
   ]
  },
  {
   "cell_type": "code",
   "execution_count": null,
   "metadata": {},
   "outputs": [],
   "source": [
    "#initialize deepsek-coder-1.3b\n",
    "import torch\n",
    "from transformers import AutoTokenizer, AutoModelForCausalLM\n",
    "tokenizer = AutoTokenizer.from_pretrained(\"deepseek-ai/deepseek-coder-1.3b-instruct\", trust_remote_code=True)\n",
    "model = AutoModelForCausalLM.from_pretrained(\"deepseek-ai/deepseek-coder-1.3b-instruct\", trust_remote_code=True, torch_dtype=torch.bfloat16).cuda()"
   ]
  },
  {
   "cell_type": "code",
   "execution_count": null,
   "metadata": {},
   "outputs": [],
   "source": [
    "for datum in humaneval:\n",
    "  messages=[\n",
    "    { 'role': 'user', 'content': humaneval['prompt']}\n",
    "  ]"
   ]
  }
 ],
 "metadata": {
  "kernelspec": {
   "display_name": "small-code-env",
   "language": "python",
   "name": "python3"
  },
  "language_info": {
   "codemirror_mode": {
    "name": "ipython",
    "version": 3
   },
   "file_extension": ".py",
   "mimetype": "text/x-python",
   "name": "python",
   "nbconvert_exporter": "python",
   "pygments_lexer": "ipython3",
   "version": "3.9.6"
  }
 },
 "nbformat": 4,
 "nbformat_minor": 2
}
