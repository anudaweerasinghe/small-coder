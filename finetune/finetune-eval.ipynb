{
 "cells": [
  {
   "cell_type": "code",
   "execution_count": null,
   "metadata": {},
   "outputs": [],
   "source": [
    "![ ! -f requirements.txt ] && git clone https://github.com/anudaweerasinghe/small-coder.git\n",
    "%cd /content/small-coder"
   ]
  },
  {
   "cell_type": "code",
   "execution_count": null,
   "metadata": {},
   "outputs": [],
   "source": [
    "%%capture\n",
    "\n",
    "! pip3 install -r requirements.txt"
   ]
  },
  {
   "cell_type": "code",
   "execution_count": null,
   "metadata": {},
   "outputs": [],
   "source": [
    "!git clone https://github.com/bigcode-project/bigcode-evaluation-harness.git\n",
    "%cd bigcode-evaluation-harness"
   ]
  },
  {
   "cell_type": "code",
   "execution_count": null,
   "metadata": {},
   "outputs": [],
   "source": [
    "%%capture\n",
    "\n",
    "!pip install -e ."
   ]
  },
  {
   "cell_type": "code",
   "execution_count": null,
   "metadata": {},
   "outputs": [],
   "source": [
    "!accelerate config default\n",
    "!mv /root/.cache/huggingface/accelerate/default_config.yaml /content/"
   ]
  },
  {
   "cell_type": "code",
   "execution_count": null,
   "metadata": {},
   "outputs": [],
   "source": [
    "!accelerate launch  main.py \\\n",
    "  --model \"shreeyak/finetuned-tinyllama-1.1B\" \\\n",
    "  --max_length_generation 1024 \\\n",
    "  --tasks humaneval \\\n",
    "  --temperature 0.2 \\\n",
    "  --n_samples 1 \\\n",
    "  --batch_size 1 \\\n",
    "  --allow_code_execution"
   ]
  },
  {
   "cell_type": "code",
   "execution_count": null,
   "metadata": {},
   "outputs": [],
   "source": [
    "!accelerate launch  main.py \\\n",
    "  --model \"shreeyak/finetuned-tinyllama-1.1B\" \\\n",
    "  --max_length_generation 256000 \\\n",
    "  --tasks mbpp \\\n",
    "  --temperature 0.2 \\\n",
    "  --n_samples 1 \\\n",
    "  --batch_size 1 \\\n",
    "  --allow_code_execution"
   ]
  }
 ],
 "metadata": {
  "language_info": {
   "name": "python"
  }
 },
 "nbformat": 4,
 "nbformat_minor": 2
}
